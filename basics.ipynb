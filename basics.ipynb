{
 "cells": [
  {
   "cell_type": "markdown",
   "id": "c8cefc90",
   "metadata": {},
   "source": [
    "## Numpy and Basics"
   ]
  },
  {
   "cell_type": "code",
   "execution_count": 2,
   "id": "7d2c8b3a",
   "metadata": {},
   "outputs": [],
   "source": [
    "import numpy as np"
   ]
  },
  {
   "cell_type": "markdown",
   "id": "df407507",
   "metadata": {},
   "source": [
    "### creating array from list"
   ]
  },
  {
   "cell_type": "code",
   "execution_count": 3,
   "id": "3ee398af",
   "metadata": {},
   "outputs": [
    {
     "name": "stdout",
     "output_type": "stream",
     "text": [
      "[1 2 3 4 5]\n",
      "[[1 2 3]\n",
      " [4 5 6]]\n"
     ]
    }
   ],
   "source": [
    "arr_1d=np.array([1,2,3,4,5])\n",
    "print(arr_1d)\n",
    "\n",
    "arr_2d=np.array([[1,2,3],[4,5,6]])\n",
    "print(arr_2d)"
   ]
  },
  {
   "cell_type": "code",
   "execution_count": null,
   "id": "b9c6fa3b",
   "metadata": {},
   "outputs": [],
   "source": []
  },
  {
   "cell_type": "markdown",
   "id": "6cb7f37b",
   "metadata": {},
   "source": [
    "### lists vs numpy"
   ]
  },
  {
   "cell_type": "code",
   "execution_count": 6,
   "id": "a8b76444",
   "metadata": {},
   "outputs": [
    {
     "name": "stdout",
     "output_type": "stream",
     "text": [
      "Python list multiplication:  [1, 2, 3, 1, 2, 3]\n",
      "Python array multiplication:  [2 4 6]\n",
      "\n",
      " List operation time:  0.09585690498352051\n",
      "\n",
      " Numpy operation time:  0.008009195327758789\n"
     ]
    }
   ],
   "source": [
    "py_list=[1,2,3]\n",
    "print(\"Python list multiplication: \",py_list*2)\n",
    "\n",
    "np_array=np.array([1,2,3]) #element wise multiplication\n",
    "print(\"Python array multiplication: \",np_array*2)\n",
    "\n",
    "import time\n",
    "\n",
    "start=time.time()\n",
    "\n",
    "py_list=[i*2 for i in range(1000000)]\n",
    "print(\"\\n List operation time: \",time.time()-start)\n",
    "\n",
    "start=time.time()\n",
    "\n",
    "np_array=np.arange(1000000)*2\n",
    "print(\"\\n Numpy operation time: \",time.time()-start)\n"
   ]
  },
  {
   "cell_type": "markdown",
   "id": "c7c03339",
   "metadata": {},
   "source": [
    "### creating array from scratch"
   ]
  },
  {
   "cell_type": "code",
   "execution_count": 14,
   "id": "235e145d",
   "metadata": {},
   "outputs": [
    {
     "name": "stdout",
     "output_type": "stream",
     "text": [
      "zeros array: \n",
      " [[0. 0. 0. 0.]\n",
      " [0. 0. 0. 0.]\n",
      " [0. 0. 0. 0.]]\n",
      "ones array: \n",
      " [[1. 1. 1.]\n",
      " [1. 1. 1.]]\n",
      "full array: \n",
      " [[7 7]\n",
      " [7 7]]\n",
      "random array: \n",
      " [[0.79128729 0.58528073 0.1549125 ]\n",
      " [0.30960628 0.05697088 0.80640247]]\n",
      "sequence array: \n",
      " [0 2 4 6 8]\n"
     ]
    }
   ],
   "source": [
    "zeros=np.zeros((3,4))\n",
    "print(\"zeros array: \\n\",zeros)\n",
    "\n",
    "ones=np.ones((2,3))\n",
    "print(\"ones array: \\n\",ones)\n",
    "\n",
    "full=np.full((2,2),7)\n",
    "print(\"full array: \\n\",full)\n",
    "\n",
    "random=np.random.random((2,3))\n",
    "print(\"random array: \\n\",random)\n",
    "\n",
    "sequence=np.arange(0,10,2)\n",
    "print(\"sequence array: \\n\",sequence)\n"
   ]
  },
  {
   "cell_type": "markdown",
   "id": "df484c5f",
   "metadata": {},
   "source": [
    "### Vector, Matrix and Tensor"
   ]
  },
  {
   "cell_type": "code",
   "execution_count": 17,
   "id": "b56b88b8",
   "metadata": {},
   "outputs": [
    {
     "name": "stdout",
     "output_type": "stream",
     "text": [
      "Vector:  [1 2 3]\n",
      "Matrix:  [[1 2 3]\n",
      " [4 5 6]]\n",
      "Tensor:  [[[1 2]\n",
      "  [3 4]]\n",
      "\n",
      " [[5 6]\n",
      "  [7 8]]]\n"
     ]
    }
   ],
   "source": [
    "vector=np.array([1,2,3])\n",
    "print(\"Vector: \",vector)\n",
    "\n",
    "matrix=np.array([[1,2,3],[4,5,6]])\n",
    "print(\"Matrix: \",matrix)\n",
    "\n",
    "tensor=np.array([[[1,2],[3,4]],\n",
    "                 [[5,6],[7,8]]])\n",
    "print(\"Tensor: \",tensor)"
   ]
  },
  {
   "cell_type": "markdown",
   "id": "c6a2f737",
   "metadata": {},
   "source": [
    "### Array Properties"
   ]
  },
  {
   "cell_type": "code",
   "execution_count": 18,
   "id": "b4ef7221",
   "metadata": {},
   "outputs": [
    {
     "name": "stdout",
     "output_type": "stream",
     "text": [
      "Shape  (2, 3)\n",
      "Dimension  2\n",
      "Size  6\n",
      "DType  int64\n"
     ]
    }
   ],
   "source": [
    "arr=np.array([[1,2,3],[4,5,6]])\n",
    "\n",
    "print(\"Shape \",arr.shape)\n",
    "print(\"Dimension \",arr.ndim)\n",
    "print(\"Size \",arr.size)\n",
    "print(\"DType \",arr.dtype)"
   ]
  },
  {
   "cell_type": "markdown",
   "id": "6a173a6f",
   "metadata": {},
   "source": [
    "### Array Reshaping"
   ]
  },
  {
   "cell_type": "code",
   "execution_count": 23,
   "id": "63838b10",
   "metadata": {},
   "outputs": [
    {
     "name": "stdout",
     "output_type": "stream",
     "text": [
      "Original Array  [ 0  1  2  3  4  5  6  7  8  9 10 11]\n",
      "\n",
      "Reshaped array  [[ 0  1  2  3]\n",
      " [ 4  5  6  7]\n",
      " [ 8  9 10 11]]\n",
      "\n",
      " Flattened Array  [ 0  1  2  3  4  5  6  7  8  9 10 11]\n",
      "\n",
      " Raveled Array  [ 0  1  2  3  4  5  6  7  8  9 10 11]\n",
      "\n",
      " Transposed Array  [[ 0  4  8]\n",
      " [ 1  5  9]\n",
      " [ 2  6 10]\n",
      " [ 3  7 11]]\n"
     ]
    }
   ],
   "source": [
    "arr=np.arange(12)\n",
    "print(\"Original Array \",arr)\n",
    "\n",
    "reshaped=arr.reshape((3,4))\n",
    "print(\"\\nReshaped array \",reshaped)\n",
    "\n",
    "flattened=reshaped.flatten()\n",
    "print(\"\\n Flattened Array \",flattened)\n",
    "\n",
    "#ravel (returns view,instead of copy)\n",
    "raveled=reshaped.ravel()\n",
    "print(\"\\n Raveled Array \",raveled)\n",
    "\n",
    "#transpose\n",
    "\n",
    "transpose=reshaped.T\n",
    "print(\"\\n Transposed Array \",transpose)\n"
   ]
  },
  {
   "cell_type": "markdown",
   "id": "cabddec6",
   "metadata": {},
   "source": [
    "### Random Number generation in Numpy"
   ]
  },
  {
   "cell_type": "code",
   "execution_count": null,
   "id": "04483fa6",
   "metadata": {},
   "outputs": [
    {
     "name": "stdout",
     "output_type": "stream",
     "text": [
      "[0.59880767 0.59429043 0.14124557 0.42194125 0.56400829 0.24757041\n",
      " 0.36502926 0.78810921 0.49476311 0.45098304 0.61152622 0.91392479\n",
      " 0.53577477 0.65949802 0.16667481 0.42162901 0.79165358 0.2894934\n",
      " 0.1194419  0.23729834]\n"
     ]
    }
   ],
   "source": [
    "# 1-d array of random numbers\n",
    "data=np.random.random(20)\n",
    "print(data)"
   ]
  },
  {
   "cell_type": "code",
   "execution_count": 6,
   "id": "b66a7287",
   "metadata": {},
   "outputs": [
    {
     "name": "stdout",
     "output_type": "stream",
     "text": [
      "[[0.42981476 0.45458072 0.69089956]\n",
      " [0.62930572 0.99364312 0.87557653]]\n"
     ]
    }
   ],
   "source": [
    "#2d array of random numbers\n",
    "\n",
    "data_2d=np.random.random((2,3))\n",
    "print(data_2d)"
   ]
  },
  {
   "cell_type": "markdown",
   "id": "f2d9a014",
   "metadata": {},
   "source": [
    "#### Using Rand()"
   ]
  },
  {
   "cell_type": "code",
   "execution_count": 8,
   "id": "bae2adbd",
   "metadata": {},
   "outputs": [
    {
     "name": "stdout",
     "output_type": "stream",
     "text": [
      "[[0.12364624 0.81933125 0.96710731]\n",
      " [0.38928311 0.87486532 0.96659833]]\n"
     ]
    }
   ],
   "source": [
    "#2-d array using rand function\n",
    "\n",
    "d2_rand=np.random.rand(2,3)\n",
    "print(d2_rand)"
   ]
  },
  {
   "cell_type": "markdown",
   "id": "80eb16db",
   "metadata": {},
   "source": [
    "#### Using Randn()\n"
   ]
  },
  {
   "cell_type": "code",
   "execution_count": 9,
   "id": "d02cb680",
   "metadata": {},
   "outputs": [
    {
     "name": "stdout",
     "output_type": "stream",
     "text": [
      "[[-0.43062662  0.53629255 -0.07519562]\n",
      " [ 1.25571435  2.10195091  0.67794903]]\n"
     ]
    }
   ],
   "source": [
    "d2_randn=np.random.randn(2,3)\n",
    "print(d2_randn)"
   ]
  },
  {
   "cell_type": "markdown",
   "id": "59d0a110",
   "metadata": {},
   "source": [
    "### NOTE\n",
    "* Both random() and rand() functions generate samples from the uniform distribution on [0, 1).\n",
    "* randn() generates samples from normal distribution."
   ]
  },
  {
   "cell_type": "code",
   "execution_count": 11,
   "id": "c5dfcd08",
   "metadata": {},
   "outputs": [
    {
     "name": "stdout",
     "output_type": "stream",
     "text": [
      "[-1 16 -7 14  1]\n",
      "[[ 6 -5  7]\n",
      " [ 1 16  2]]\n"
     ]
    }
   ],
   "source": [
    "randint_data=np.random.randint(-10,20,5)\n",
    "print(randint_data)\n",
    "\n",
    "randint_data_2d=np.random.randint(-10,20,(2,3))\n",
    "print(randint_data_2d)"
   ]
  },
  {
   "cell_type": "code",
   "execution_count": 12,
   "id": "a705d8c0",
   "metadata": {},
   "outputs": [
    {
     "name": "stdout",
     "output_type": "stream",
     "text": [
      "[[0. 0. 0. 0. 0.]\n",
      " [0. 0. 0. 0. 0.]\n",
      " [0. 0. 0. 0. 0.]\n",
      " [0. 0. 0. 0. 0.]]\n"
     ]
    }
   ],
   "source": [
    "zeroes_4x5=np.zeros((4,5))\n",
    "print(zeroes_4x5)"
   ]
  },
  {
   "cell_type": "code",
   "execution_count": 13,
   "id": "38c406f5",
   "metadata": {},
   "outputs": [
    {
     "name": "stdout",
     "output_type": "stream",
     "text": [
      "[[1. 1. 1. 1. 1. 1.]\n",
      " [1. 1. 1. 1. 1. 1.]\n",
      " [1. 1. 1. 1. 1. 1.]]\n"
     ]
    }
   ],
   "source": [
    "ones_3x6=np.ones((3,6))\n",
    "print(ones_3x6)"
   ]
  },
  {
   "cell_type": "code",
   "execution_count": 14,
   "id": "0d19d8af",
   "metadata": {},
   "outputs": [
    {
     "name": "stdout",
     "output_type": "stream",
     "text": [
      "[[0.91212875 0.8599701  0.63448733 0.95409666 0.00557756 0.62305752\n",
      "  0.77012448 0.61748018 0.50581863 0.7336363 ]\n",
      " [0.91919813 0.98578907 0.36580552 0.00691672 0.6343343  0.02625088\n",
      "  0.51144271 0.30606992 0.12417667 0.07847391]]\n"
     ]
    }
   ],
   "source": [
    "random_2x10=np.random.random((2,10))\n",
    "print(random_2x10)"
   ]
  },
  {
   "cell_type": "code",
   "execution_count": 15,
   "id": "11ce223b",
   "metadata": {},
   "outputs": [
    {
     "name": "stdout",
     "output_type": "stream",
     "text": [
      "[[388 345 483]\n",
      " [329 494 498]\n",
      " [455 284 230]\n",
      " [432 332 442]\n",
      " [474 468 276]\n",
      " [456 273 497]]\n"
     ]
    }
   ],
   "source": [
    "randint_6x3=np.random.randint(230,500,(6,3))\n",
    "print(randint_6x3)"
   ]
  },
  {
   "cell_type": "markdown",
   "id": "73b00f1a",
   "metadata": {},
   "source": [
    "Creating numpy array using arange()"
   ]
  },
  {
   "cell_type": "code",
   "execution_count": 17,
   "id": "0e55975c",
   "metadata": {},
   "outputs": [
    {
     "name": "stdout",
     "output_type": "stream",
     "text": [
      "[1 2 3 4 5 6 7 8 9]\n",
      "[1 3 5 7 9]\n"
     ]
    }
   ],
   "source": [
    "print(np.arange(1,10))\n",
    "print(np.arange(1,10,2))"
   ]
  },
  {
   "cell_type": "code",
   "execution_count": 18,
   "id": "e41dff63",
   "metadata": {},
   "outputs": [
    {
     "name": "stdout",
     "output_type": "stream",
     "text": [
      "[[5 5 5]\n",
      " [5 5 5]]\n"
     ]
    }
   ],
   "source": [
    "full_method=np.full((2,3),5)\n",
    "print(full_method)"
   ]
  },
  {
   "cell_type": "markdown",
   "id": "4e32aae2",
   "metadata": {},
   "source": [
    "create identity matrix"
   ]
  },
  {
   "cell_type": "code",
   "execution_count": 20,
   "id": "1866d793",
   "metadata": {},
   "outputs": [
    {
     "name": "stdout",
     "output_type": "stream",
     "text": [
      "[[1. 0. 0. 0.]\n",
      " [0. 1. 0. 0.]\n",
      " [0. 0. 1. 0.]\n",
      " [0. 0. 0. 1.]]\n"
     ]
    }
   ],
   "source": [
    "print(np.identity(4))"
   ]
  },
  {
   "cell_type": "code",
   "execution_count": 24,
   "id": "d9f21344",
   "metadata": {},
   "outputs": [
    {
     "name": "stdout",
     "output_type": "stream",
     "text": [
      "[ 1 27 53 79]\n",
      "[ 50  53  56  59  62  65  68  71  74  77  80  83  86  89  92  95  98 101\n",
      " 104 107 110 113 116 119 122 125 128 131 134 137 140 143 146 149]\n",
      "[[27 27 27 27 27]\n",
      " [27 27 27 27 27]\n",
      " [27 27 27 27 27]\n",
      " [27 27 27 27 27]\n",
      " [27 27 27 27 27]]\n",
      "[[1. 0. 0.]\n",
      " [0. 1. 0.]\n",
      " [0. 0. 1.]]\n"
     ]
    }
   ],
   "source": [
    "equal_space_ar=np.arange(1,100,26)\n",
    "print(equal_space_ar)\n",
    "\n",
    "range_50_150=np.arange(50,150,3)\n",
    "print(range_50_150)\n",
    "\n",
    "print(np.full((5,5),fill_value=27))\n",
    "\n",
    "print(np.identity(3))"
   ]
  },
  {
   "cell_type": "markdown",
   "id": "39d32d2c",
   "metadata": {},
   "source": [
    "Linear Algebra"
   ]
  },
  {
   "cell_type": "code",
   "execution_count": 27,
   "id": "9f5da380",
   "metadata": {},
   "outputs": [
    {
     "name": "stdout",
     "output_type": "stream",
     "text": [
      "Determinant of the matrix: -2.0000000000000004\n",
      "[[-2.   1. ]\n",
      " [ 1.5 -0.5]]\n",
      "EigResult(eigenvalues=array([-0.37228132,  5.37228132]), eigenvectors=array([[-0.82456484, -0.41597356],\n",
      "       [ 0.56576746, -0.90937671]]))\n"
     ]
    }
   ],
   "source": [
    "mat=np.array([[1,2],[3,4]])\n",
    "det=np.linalg.det(mat)\n",
    "\n",
    "print(f\"Determinant of the matrix: {det}\")\n",
    "\n",
    "inv=np.linalg.inv(mat)\n",
    "print(inv)\n",
    "\n",
    "eign=np.linalg.eig(mat)\n",
    "print(eign)"
   ]
  },
  {
   "cell_type": "code",
   "execution_count": 28,
   "id": "b1c35bf5",
   "metadata": {},
   "outputs": [
    {
     "name": "stdout",
     "output_type": "stream",
     "text": [
      "0.9999999999999964\n",
      "[[-24.  18.   5.]\n",
      " [ 20. -15.  -4.]\n",
      " [ -5.   4.   1.]]\n"
     ]
    }
   ],
   "source": [
    "\"\"\"\n",
    "Given a square matrix, check if it's invertible by computing its determinant.\n",
    "If invertible, compute its inverse.\n",
    "\n",
    "Task: Generate a random 3x3 matrix, check determinant, and if nonzero,\n",
    "compute inverse.\n",
    "\"\"\"\n",
    "\n",
    "mat_3X3=np.array([[1, 2, 3], [0, 1, 4], [5, 6, 0]])\n",
    "det_mat=np.linalg.det(mat_3X3)\n",
    "inverse=None\n",
    "\n",
    "if det!=0:\n",
    "    inverse=np.linalg.inv(mat_3X3)\n",
    "print(det_mat)\n",
    "print(inverse)"
   ]
  },
  {
   "cell_type": "code",
   "execution_count": 30,
   "id": "aa75459b",
   "metadata": {},
   "outputs": [
    {
     "name": "stdout",
     "output_type": "stream",
     "text": [
      "[40 50 60]\n",
      "[10 20 30 40 50 60]\n"
     ]
    }
   ],
   "source": [
    "\"\"\"\n",
    "# Create an array:\n",
    "# arr = [10, 20, 30, 40, 50, 60]\n",
    "\n",
    "# a) Select all elements greater than 30.\n",
    "# b) Select all even elements.\n",
    "\"\"\"\n",
    "\n",
    "arr = np.array([10,20,30,40,50,60])\n",
    "print(arr[arr>30])\n",
    "print(arr[arr%2==0])"
   ]
  },
  {
   "cell_type": "code",
   "execution_count": 31,
   "id": "cc117ecb",
   "metadata": {},
   "outputs": [
    {
     "name": "stdout",
     "output_type": "stream",
     "text": [
      "[2.2 2.6]\n",
      "[ 7. 10.]\n",
      "True\n"
     ]
    }
   ],
   "source": [
    "\"\"\"\n",
    "Given a Ax = B, solve using np.linalg.solve(). Then verify if it is correct.\n",
    "\"\"\"\n",
    "A = np.array([[2, 1], [1, 3]])\n",
    "b = np.array([7, 10])\n",
    "x = np.linalg.solve(A, b)\n",
    "print(x)\n",
    "print(np.dot(A, x))\n",
    "# The below function checks if the results are close\n",
    "print(np.allclose(np.dot(A, x), b))"
   ]
  }
 ],
 "metadata": {
  "kernelspec": {
   "display_name": "env",
   "language": "python",
   "name": "python3"
  },
  "language_info": {
   "codemirror_mode": {
    "name": "ipython",
    "version": 3
   },
   "file_extension": ".py",
   "mimetype": "text/x-python",
   "name": "python",
   "nbconvert_exporter": "python",
   "pygments_lexer": "ipython3",
   "version": "3.12.4"
  }
 },
 "nbformat": 4,
 "nbformat_minor": 5
}
