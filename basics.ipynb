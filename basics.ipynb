{
 "cells": [
  {
   "cell_type": "markdown",
   "id": "c8cefc90",
   "metadata": {},
   "source": [
    "## Numpy and Basics"
   ]
  },
  {
   "cell_type": "code",
   "execution_count": 1,
   "id": "7d2c8b3a",
   "metadata": {},
   "outputs": [],
   "source": [
    "import numpy as np"
   ]
  },
  {
   "cell_type": "markdown",
   "id": "df407507",
   "metadata": {},
   "source": [
    "### creating array from list"
   ]
  },
  {
   "cell_type": "code",
   "execution_count": 3,
   "id": "3ee398af",
   "metadata": {},
   "outputs": [
    {
     "name": "stdout",
     "output_type": "stream",
     "text": [
      "[1 2 3 4 5]\n",
      "[[1 2 3]\n",
      " [4 5 6]]\n"
     ]
    }
   ],
   "source": [
    "arr_1d=np.array([1,2,3,4,5])\n",
    "print(arr_1d)\n",
    "\n",
    "arr_2d=np.array([[1,2,3],[4,5,6]])\n",
    "print(arr_2d)"
   ]
  },
  {
   "cell_type": "markdown",
   "id": "6cb7f37b",
   "metadata": {},
   "source": [
    "### lists vs numpy"
   ]
  },
  {
   "cell_type": "code",
   "execution_count": 6,
   "id": "a8b76444",
   "metadata": {},
   "outputs": [
    {
     "name": "stdout",
     "output_type": "stream",
     "text": [
      "Python list multiplication:  [1, 2, 3, 1, 2, 3]\n",
      "Python array multiplication:  [2 4 6]\n",
      "\n",
      " List operation time:  0.09585690498352051\n",
      "\n",
      " Numpy operation time:  0.008009195327758789\n"
     ]
    }
   ],
   "source": [
    "py_list=[1,2,3]\n",
    "print(\"Python list multiplication: \",py_list*2)\n",
    "\n",
    "np_array=np.array([1,2,3]) #element wise multiplication\n",
    "print(\"Python array multiplication: \",np_array*2)\n",
    "\n",
    "import time\n",
    "\n",
    "start=time.time()\n",
    "\n",
    "py_list=[i*2 for i in range(1000000)]\n",
    "print(\"\\n List operation time: \",time.time()-start)\n",
    "\n",
    "start=time.time()\n",
    "\n",
    "np_array=np.arange(1000000)*2\n",
    "print(\"\\n Numpy operation time: \",time.time()-start)\n"
   ]
  },
  {
   "cell_type": "markdown",
   "id": "c7c03339",
   "metadata": {},
   "source": [
    "### creating array from scratch"
   ]
  },
  {
   "cell_type": "code",
   "execution_count": 14,
   "id": "235e145d",
   "metadata": {},
   "outputs": [
    {
     "name": "stdout",
     "output_type": "stream",
     "text": [
      "zeros array: \n",
      " [[0. 0. 0. 0.]\n",
      " [0. 0. 0. 0.]\n",
      " [0. 0. 0. 0.]]\n",
      "ones array: \n",
      " [[1. 1. 1.]\n",
      " [1. 1. 1.]]\n",
      "full array: \n",
      " [[7 7]\n",
      " [7 7]]\n",
      "random array: \n",
      " [[0.79128729 0.58528073 0.1549125 ]\n",
      " [0.30960628 0.05697088 0.80640247]]\n",
      "sequence array: \n",
      " [0 2 4 6 8]\n"
     ]
    }
   ],
   "source": [
    "zeros=np.zeros((3,4))\n",
    "print(\"zeros array: \\n\",zeros)\n",
    "\n",
    "ones=np.ones((2,3))\n",
    "print(\"ones array: \\n\",ones)\n",
    "\n",
    "full=np.full((2,2),7)\n",
    "print(\"full array: \\n\",full)\n",
    "\n",
    "random=np.random.random((2,3))\n",
    "print(\"random array: \\n\",random)\n",
    "\n",
    "sequence=np.arange(0,10,2)\n",
    "print(\"sequence array: \\n\",sequence)\n"
   ]
  },
  {
   "cell_type": "markdown",
   "id": "df484c5f",
   "metadata": {},
   "source": [
    "### Vector, Matrix and Tensor"
   ]
  },
  {
   "cell_type": "code",
   "execution_count": 17,
   "id": "b56b88b8",
   "metadata": {},
   "outputs": [
    {
     "name": "stdout",
     "output_type": "stream",
     "text": [
      "Vector:  [1 2 3]\n",
      "Matrix:  [[1 2 3]\n",
      " [4 5 6]]\n",
      "Tensor:  [[[1 2]\n",
      "  [3 4]]\n",
      "\n",
      " [[5 6]\n",
      "  [7 8]]]\n"
     ]
    }
   ],
   "source": [
    "vector=np.array([1,2,3])\n",
    "print(\"Vector: \",vector)\n",
    "\n",
    "matrix=np.array([[1,2,3],[4,5,6]])\n",
    "print(\"Matrix: \",matrix)\n",
    "\n",
    "tensor=np.array([[[1,2],[3,4]],\n",
    "                 [[5,6],[7,8]]])\n",
    "print(\"Tensor: \",tensor)"
   ]
  },
  {
   "cell_type": "markdown",
   "id": "c6a2f737",
   "metadata": {},
   "source": [
    "### Array Properties"
   ]
  },
  {
   "cell_type": "code",
   "execution_count": 18,
   "id": "b4ef7221",
   "metadata": {},
   "outputs": [
    {
     "name": "stdout",
     "output_type": "stream",
     "text": [
      "Shape  (2, 3)\n",
      "Dimension  2\n",
      "Size  6\n",
      "DType  int64\n"
     ]
    }
   ],
   "source": [
    "arr=np.array([[1,2,3],[4,5,6]])\n",
    "\n",
    "print(\"Shape \",arr.shape)\n",
    "print(\"Dimension \",arr.ndim)\n",
    "print(\"Size \",arr.size)\n",
    "print(\"DType \",arr.dtype)"
   ]
  },
  {
   "cell_type": "markdown",
   "id": "6a173a6f",
   "metadata": {},
   "source": [
    "### Array Reshaping"
   ]
  },
  {
   "cell_type": "code",
   "execution_count": 23,
   "id": "63838b10",
   "metadata": {},
   "outputs": [
    {
     "name": "stdout",
     "output_type": "stream",
     "text": [
      "Original Array  [ 0  1  2  3  4  5  6  7  8  9 10 11]\n",
      "\n",
      "Reshaped array  [[ 0  1  2  3]\n",
      " [ 4  5  6  7]\n",
      " [ 8  9 10 11]]\n",
      "\n",
      " Flattened Array  [ 0  1  2  3  4  5  6  7  8  9 10 11]\n",
      "\n",
      " Raveled Array  [ 0  1  2  3  4  5  6  7  8  9 10 11]\n",
      "\n",
      " Transposed Array  [[ 0  4  8]\n",
      " [ 1  5  9]\n",
      " [ 2  6 10]\n",
      " [ 3  7 11]]\n"
     ]
    }
   ],
   "source": [
    "arr=np.arange(12)\n",
    "print(\"Original Array \",arr)\n",
    "\n",
    "reshaped=arr.reshape((3,4))\n",
    "print(\"\\nReshaped array \",reshaped)\n",
    "\n",
    "flattened=reshaped.flatten()\n",
    "print(\"\\n Flattened Array \",flattened)\n",
    "\n",
    "#ravel (returns view,instead of copy)\n",
    "raveled=reshaped.ravel()\n",
    "print(\"\\n Raveled Array \",raveled)\n",
    "\n",
    "#transpose\n",
    "\n",
    "transpose=reshaped.T\n",
    "print(\"\\n Transposed Array \",transpose)\n"
   ]
  }
 ],
 "metadata": {
  "kernelspec": {
   "display_name": "env",
   "language": "python",
   "name": "python3"
  },
  "language_info": {
   "codemirror_mode": {
    "name": "ipython",
    "version": 3
   },
   "file_extension": ".py",
   "mimetype": "text/x-python",
   "name": "python",
   "nbconvert_exporter": "python",
   "pygments_lexer": "ipython3",
   "version": "3.12.4"
  }
 },
 "nbformat": 4,
 "nbformat_minor": 5
}
