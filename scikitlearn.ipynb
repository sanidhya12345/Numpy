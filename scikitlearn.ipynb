{
 "cells": [
  {
   "cell_type": "code",
   "execution_count": 2,
   "id": "a0aa8bcf",
   "metadata": {},
   "outputs": [
    {
     "name": "stdout",
     "output_type": "stream",
     "text": [
      "Requirement already satisfied: scikit-learn in d:\\numpy\\env\\lib\\site-packages (1.7.0)\n",
      "Requirement already satisfied: numpy>=1.22.0 in d:\\numpy\\env\\lib\\site-packages (from scikit-learn) (2.2.5)\n",
      "Requirement already satisfied: scipy>=1.8.0 in d:\\numpy\\env\\lib\\site-packages (from scikit-learn) (1.15.3)\n",
      "Requirement already satisfied: joblib>=1.2.0 in d:\\numpy\\env\\lib\\site-packages (from scikit-learn) (1.5.1)\n",
      "Requirement already satisfied: threadpoolctl>=3.1.0 in d:\\numpy\\env\\lib\\site-packages (from scikit-learn) (3.6.0)\n",
      "Note: you may need to restart the kernel to use updated packages.\n"
     ]
    },
    {
     "name": "stderr",
     "output_type": "stream",
     "text": [
      "\n",
      "[notice] A new release of pip is available: 24.0 -> 25.1.1\n",
      "[notice] To update, run: python.exe -m pip install --upgrade pip\n"
     ]
    }
   ],
   "source": [
    "pip install scikit-learn"
   ]
  },
  {
   "cell_type": "markdown",
   "id": "e9d422ca",
   "metadata": {},
   "source": [
    "## Scikit-Learn\n",
    "\n"
   ]
  },
  {
   "cell_type": "code",
   "execution_count": null,
   "id": "cd2ef1ae",
   "metadata": {},
   "outputs": [
    {
     "name": "stdout",
     "output_type": "stream",
     "text": [
      "Total number of dataset loaders: 23\n",
      "\n",
      "List of dataset loaders:\n",
      "\n",
      "1. fetch_20newsgroups\n",
      "2. fetch_20newsgroups_vectorized\n",
      "3. fetch_california_housing\n",
      "4. fetch_covtype\n",
      "5. fetch_file\n",
      "6. fetch_kddcup99\n",
      "7. fetch_lfw_pairs\n",
      "8. fetch_lfw_people\n",
      "9. fetch_olivetti_faces\n",
      "10. fetch_openml\n",
      "11. fetch_rcv1\n",
      "12. fetch_species_distributions\n",
      "13. load_breast_cancer\n",
      "14. load_diabetes\n",
      "15. load_digits\n",
      "16. load_files\n",
      "17. load_iris\n",
      "18. load_linnerud\n",
      "19. load_sample_image\n",
      "20. load_sample_images\n",
      "21. load_svmlight_file\n",
      "22. load_svmlight_files\n",
      "23. load_wine\n"
     ]
    }
   ],
   "source": [
    "from sklearn import datasets\n",
    "\n",
    "dataset_funcs = [f for f in dir(datasets) if f.startswith(\"load_\") or f.startswith(\"fetch_\")]\n",
    "\n",
    "print(\"Total number of dataset loaders:\", len(dataset_funcs))\n",
    "print(\"\\nList of dataset loaders:\\n\")\n",
    "\n",
    "for idx, name in enumerate(dataset_funcs, start=1):\n",
    "    print(f\"{idx}. {name}\")\n",
    "\n",
    "\n",
    "'''\n",
    "Explanation:\n",
    "\n",
    "# from sklearn import datasets: Imports the datasets module from sklearn. \n",
    "This module includes built-in datasets for experimentation.\n",
    "\n",
    "# dir(datasets): Lists all attributes (functions, classes) inside the datasets module.\n",
    "\n",
    "# The list comprehension filters out only the functions that start with \"load_\" or \"fetch_\". \n",
    "These are dataset loaders:\n",
    "load_* loads small in-built datasets.\n",
    "fetch_* fetches larger datasets from the internet.\n",
    "\n",
    "Finally, it prints the total count and names of all dataset loader functions.\n",
    "'''"
   ]
  },
  {
   "cell_type": "code",
   "execution_count": 6,
   "id": "d78a461b",
   "metadata": {},
   "outputs": [
    {
     "name": "stdout",
     "output_type": "stream",
     "text": [
      "Loaded Dataset: load_iris\n",
      "Data shape: (150, 4)\n",
      "Feature names: ['sepal length (cm)', 'sepal width (cm)', 'petal length (cm)', 'petal width (cm)']\n",
      "Target shape: (150,)\n"
     ]
    }
   ],
   "source": [
    "from sklearn import datasets\n",
    "\n",
    "# dataset_name = \"load_iris\": We want to load the famous Iris flower dataset.\n",
    "dataset_name=\"load_iris\"\n",
    "\n",
    "# getattr(datasets, dataset_name): Dynamically fetches the function load_iris from datasets.\n",
    "\n",
    "loader=getattr(datasets,dataset_name)\n",
    "\n",
    "# dataset = loader(): Calls that function to load the dataset.\n",
    "dataset=loader()\n",
    "\n",
    "print(f\"Loaded Dataset: {dataset_name}\")\n",
    "print(f\"Data shape: {dataset.data.shape if hasattr(dataset,'data') else 'N/A'}\")\n",
    "print(f\"Feature names: {dataset.feature_names if hasattr(dataset,'feature_names') else 'N/A'}\")\n",
    "print(f\"Target shape: {dataset.target.shape if hasattr(dataset, 'target') else 'N/A'}\")"
   ]
  },
  {
   "cell_type": "code",
   "execution_count": null,
   "id": "a9c673af",
   "metadata": {},
   "outputs": [],
   "source": [
    "from sklearn.utils import all_estimators\n",
    "\n",
    "# Get all estimators\n",
    "estimators = all_estimators()\n",
    "\n",
    "print(f\"Total number of estimators: {len(estimators)}\\n\")\n",
    "print(\"List of available estimators:\\n\")\n",
    "\n",
    "for idx, (name, _) in enumerate(estimators, start=1):\n",
    "    print(f\"{idx}. {name}\")\n",
    "\n",
    "'''\n",
    "all_estimators(): Returns a list of all available estimators in scikit-learn. These include:\n",
    "\n",
    "Classifiers (LogisticRegression, SVC, etc.)\n",
    "\n",
    "Regressors (LinearRegression, Ridge, etc.)\n",
    "\n",
    "Clustering models (KMeans, DBSCAN, etc.)\n",
    "\n",
    "Transformers and more\n",
    "\n",
    "The output is a list of tuples: (estimator_name, estimator_class)\n",
    "'''"
   ]
  },
  {
   "cell_type": "code",
   "execution_count": null,
   "id": "db739e74",
   "metadata": {},
   "outputs": [
    {
     "data": {
      "text/html": [
       "<div>\n",
       "<style scoped>\n",
       "    .dataframe tbody tr th:only-of-type {\n",
       "        vertical-align: middle;\n",
       "    }\n",
       "\n",
       "    .dataframe tbody tr th {\n",
       "        vertical-align: top;\n",
       "    }\n",
       "\n",
       "    .dataframe thead th {\n",
       "        text-align: right;\n",
       "    }\n",
       "</style>\n",
       "<table border=\"1\" class=\"dataframe\">\n",
       "  <thead>\n",
       "    <tr style=\"text-align: right;\">\n",
       "      <th></th>\n",
       "      <th>sepal length (cm)</th>\n",
       "      <th>sepal width (cm)</th>\n",
       "      <th>petal length (cm)</th>\n",
       "      <th>petal width (cm)</th>\n",
       "      <th>target</th>\n",
       "    </tr>\n",
       "  </thead>\n",
       "  <tbody>\n",
       "    <tr>\n",
       "      <th>0</th>\n",
       "      <td>5.1</td>\n",
       "      <td>3.5</td>\n",
       "      <td>1.4</td>\n",
       "      <td>0.2</td>\n",
       "      <td>0</td>\n",
       "    </tr>\n",
       "    <tr>\n",
       "      <th>1</th>\n",
       "      <td>4.9</td>\n",
       "      <td>3.0</td>\n",
       "      <td>1.4</td>\n",
       "      <td>0.2</td>\n",
       "      <td>0</td>\n",
       "    </tr>\n",
       "    <tr>\n",
       "      <th>2</th>\n",
       "      <td>4.7</td>\n",
       "      <td>3.2</td>\n",
       "      <td>1.3</td>\n",
       "      <td>0.2</td>\n",
       "      <td>0</td>\n",
       "    </tr>\n",
       "    <tr>\n",
       "      <th>3</th>\n",
       "      <td>4.6</td>\n",
       "      <td>3.1</td>\n",
       "      <td>1.5</td>\n",
       "      <td>0.2</td>\n",
       "      <td>0</td>\n",
       "    </tr>\n",
       "    <tr>\n",
       "      <th>4</th>\n",
       "      <td>5.0</td>\n",
       "      <td>3.6</td>\n",
       "      <td>1.4</td>\n",
       "      <td>0.2</td>\n",
       "      <td>0</td>\n",
       "    </tr>\n",
       "  </tbody>\n",
       "</table>\n",
       "</div>"
      ],
      "text/plain": [
       "   sepal length (cm)  sepal width (cm)  petal length (cm)  petal width (cm)  \\\n",
       "0                5.1               3.5                1.4               0.2   \n",
       "1                4.9               3.0                1.4               0.2   \n",
       "2                4.7               3.2                1.3               0.2   \n",
       "3                4.6               3.1                1.5               0.2   \n",
       "4                5.0               3.6                1.4               0.2   \n",
       "\n",
       "   target  \n",
       "0       0  \n",
       "1       0  \n",
       "2       0  \n",
       "3       0  \n",
       "4       0  "
      ]
     },
     "execution_count": 7,
     "metadata": {},
     "output_type": "execute_result"
    }
   ],
   "source": [
    "from sklearn.datasets import load_iris\n",
    "import pandas as pd\n",
    "\n",
    "iris=load_iris()\n",
    "\n",
    "df=pd.DataFrame(data=iris.data,columns=iris.feature_names)\n",
    "df['target']=iris.target\n",
    "\n",
    "df.head()\n",
    "\n",
    "'''\n",
    "🔍 Explanation:\n",
    "load_iris(): Loads the classic Iris flower dataset.\n",
    "\n",
    "pd.DataFrame(...): Converts the dataset into a pandas DataFrame for easier data manipulation and visualization.\n",
    "\n",
    "columns=iris.feature_names: Assigns column names like \"sepal length (cm)\", \"petal width (cm)\", etc.\n",
    "\n",
    "df['target'] = iris.target: Adds a target column indicating the flower species (0, 1, 2).\n",
    "\n",
    "df.head(): Displays the first 5 rows of the DataFrame.\n",
    "\n",
    "🧠 Why useful?\n",
    "Turning data into a DataFrame makes it easier to clean, explore, visualize, and prepare for modeling.\n",
    "'''\n"
   ]
  },
  {
   "cell_type": "code",
   "execution_count": null,
   "id": "4c05f200",
   "metadata": {},
   "outputs": [
    {
     "name": "stdout",
     "output_type": "stream",
     "text": [
      "(150, 5)\n",
      "sepal length (cm)    float64\n",
      "sepal width (cm)     float64\n",
      "petal length (cm)    float64\n",
      "petal width (cm)     float64\n",
      "target                 int64\n",
      "dtype: object\n"
     ]
    },
    {
     "data": {
      "text/plain": [
       "target\n",
       "0    50\n",
       "1    50\n",
       "2    50\n",
       "Name: count, dtype: int64"
      ]
     },
     "execution_count": 15,
     "metadata": {},
     "output_type": "execute_result"
    }
   ],
   "source": [
    "print(df.shape)\n",
    "print(df.dtypes)\n",
    "df['target'].value_counts()\n",
    "\n",
    "'''\n",
    "🔍 Explanation:\n",
    "df.shape: Returns the number of rows and columns in the dataset. Output: (150, 5) for 150 samples and 5 columns.\n",
    "\n",
    "df.dtypes: Displays the data types of each column (float64 for features, int64 for target).\n",
    "\n",
    "df['target'].value_counts(): Counts how many samples belong to each class:\n",
    "\n",
    "Example: 0: 50, 1: 50, 2: 50 for balanced Iris dataset.\n",
    "\n",
    "🧠 Helps in understanding the structure and distribution of data.\n",
    "'''"
   ]
  },
  {
   "cell_type": "code",
   "execution_count": null,
   "id": "7c4a5476",
   "metadata": {},
   "outputs": [
    {
     "name": "stdout",
     "output_type": "stream",
     "text": [
      "sepal length (cm)    0\n",
      "sepal width (cm)     0\n",
      "petal length (cm)    0\n",
      "petal width (cm)     0\n",
      "target               0\n",
      "dtype: int64\n"
     ]
    }
   ],
   "source": [
    "print(df.isnull().sum())\n",
    "\n",
    "'''\n",
    "🔍 Explanation:\n",
    "Checks for missing values in each column.\n",
    "\n",
    ".isnull() returns a boolean DataFrame indicating True where values are missing.\n",
    "\n",
    ".sum() counts how many True (missing) values are in each column.\n",
    "\n",
    "🧠 Clean data = ready for training.\n",
    "'''"
   ]
  },
  {
   "cell_type": "code",
   "execution_count": null,
   "id": "8e31058c",
   "metadata": {},
   "outputs": [
    {
     "data": {
      "text/html": [
       "<div>\n",
       "<style scoped>\n",
       "    .dataframe tbody tr th:only-of-type {\n",
       "        vertical-align: middle;\n",
       "    }\n",
       "\n",
       "    .dataframe tbody tr th {\n",
       "        vertical-align: top;\n",
       "    }\n",
       "\n",
       "    .dataframe thead th {\n",
       "        text-align: right;\n",
       "    }\n",
       "</style>\n",
       "<table border=\"1\" class=\"dataframe\">\n",
       "  <thead>\n",
       "    <tr style=\"text-align: right;\">\n",
       "      <th></th>\n",
       "      <th>sepal length (cm)</th>\n",
       "      <th>sepal width (cm)</th>\n",
       "      <th>petal length (cm)</th>\n",
       "      <th>petal width (cm)</th>\n",
       "      <th>target</th>\n",
       "    </tr>\n",
       "  </thead>\n",
       "  <tbody>\n",
       "    <tr>\n",
       "      <th>count</th>\n",
       "      <td>150.000000</td>\n",
       "      <td>150.000000</td>\n",
       "      <td>150.000000</td>\n",
       "      <td>150.000000</td>\n",
       "      <td>150.000000</td>\n",
       "    </tr>\n",
       "    <tr>\n",
       "      <th>mean</th>\n",
       "      <td>5.843333</td>\n",
       "      <td>3.057333</td>\n",
       "      <td>3.758000</td>\n",
       "      <td>1.199333</td>\n",
       "      <td>1.000000</td>\n",
       "    </tr>\n",
       "    <tr>\n",
       "      <th>std</th>\n",
       "      <td>0.828066</td>\n",
       "      <td>0.435866</td>\n",
       "      <td>1.765298</td>\n",
       "      <td>0.762238</td>\n",
       "      <td>0.819232</td>\n",
       "    </tr>\n",
       "    <tr>\n",
       "      <th>min</th>\n",
       "      <td>4.300000</td>\n",
       "      <td>2.000000</td>\n",
       "      <td>1.000000</td>\n",
       "      <td>0.100000</td>\n",
       "      <td>0.000000</td>\n",
       "    </tr>\n",
       "    <tr>\n",
       "      <th>25%</th>\n",
       "      <td>5.100000</td>\n",
       "      <td>2.800000</td>\n",
       "      <td>1.600000</td>\n",
       "      <td>0.300000</td>\n",
       "      <td>0.000000</td>\n",
       "    </tr>\n",
       "    <tr>\n",
       "      <th>50%</th>\n",
       "      <td>5.800000</td>\n",
       "      <td>3.000000</td>\n",
       "      <td>4.350000</td>\n",
       "      <td>1.300000</td>\n",
       "      <td>1.000000</td>\n",
       "    </tr>\n",
       "    <tr>\n",
       "      <th>75%</th>\n",
       "      <td>6.400000</td>\n",
       "      <td>3.300000</td>\n",
       "      <td>5.100000</td>\n",
       "      <td>1.800000</td>\n",
       "      <td>2.000000</td>\n",
       "    </tr>\n",
       "    <tr>\n",
       "      <th>max</th>\n",
       "      <td>7.900000</td>\n",
       "      <td>4.400000</td>\n",
       "      <td>6.900000</td>\n",
       "      <td>2.500000</td>\n",
       "      <td>2.000000</td>\n",
       "    </tr>\n",
       "  </tbody>\n",
       "</table>\n",
       "</div>"
      ],
      "text/plain": [
       "       sepal length (cm)  sepal width (cm)  petal length (cm)  \\\n",
       "count         150.000000        150.000000         150.000000   \n",
       "mean            5.843333          3.057333           3.758000   \n",
       "std             0.828066          0.435866           1.765298   \n",
       "min             4.300000          2.000000           1.000000   \n",
       "25%             5.100000          2.800000           1.600000   \n",
       "50%             5.800000          3.000000           4.350000   \n",
       "75%             6.400000          3.300000           5.100000   \n",
       "max             7.900000          4.400000           6.900000   \n",
       "\n",
       "       petal width (cm)      target  \n",
       "count        150.000000  150.000000  \n",
       "mean           1.199333    1.000000  \n",
       "std            0.762238    0.819232  \n",
       "min            0.100000    0.000000  \n",
       "25%            0.300000    0.000000  \n",
       "50%            1.300000    1.000000  \n",
       "75%            1.800000    2.000000  \n",
       "max            2.500000    2.000000  "
      ]
     },
     "execution_count": 18,
     "metadata": {},
     "output_type": "execute_result"
    }
   ],
   "source": [
    "df.describe()\n",
    "\n",
    "'''\n",
    "🧠 Useful for detecting scaling issues, outliers, and general trends.\n",
    "'''"
   ]
  },
  {
   "cell_type": "code",
   "execution_count": null,
   "id": "f4db1621",
   "metadata": {},
   "outputs": [
    {
     "data": {
      "image/png": "[encoded data removed]",
      "text/plain": [
       "<Figure size 1000x500 with 1 Axes>"
      ]
     },
     "metadata": {},
     "output_type": "display_data"
    }
   ],
   "source": [
    "import matplotlib.pyplot as plt\n",
    "\n",
    "import seaborn as sns\n",
    "\n",
    "plt.figure(figsize=(10,5))\n",
    "\n",
    "sns.boxplot(data=df.iloc[:,:-1])\n",
    "plt.title(\"before scaling\")\n",
    "plt.show()\n",
    "\n",
    "'''\n",
    "🔍 Explanation:\n",
    "matplotlib.pyplot and seaborn are used for plotting.\n",
    "\n",
    "plt.figure(figsize=(10, 5)): Sets the size of the plot.\n",
    "\n",
    "sns.boxplot(...): Draws a boxplot for each feature (excluding the target column).\n",
    "\n",
    "Boxplots visualize:\n",
    "\n",
    "Median\n",
    "\n",
    "Quartiles\n",
    "\n",
    "Outliers\n",
    "\n",
    "df.iloc[:, :-1]: Selects all columns except the last (target).\n",
    "\n",
    "📊 Output: Shows if features are on different scales and helps decide whether feature scaling is needed.\n",
    "'''"
   ]
  },
  {
   "cell_type": "code",
   "execution_count": 23,
   "id": "5f7a1bed",
   "metadata": {},
   "outputs": [
    {
     "data": {
      "text/plain": [
       "'\\n🔍 Explanation:\\nStandardScaler: Scales data to have mean = 0 and standard deviation = 1.\\n\\ndf.iloc[:, :-1]: Selects all feature columns (not target).\\n\\nscaler.fit_transform(...):\\n\\n.fit() calculates mean & std for each feature.\\n\\n.transform() scales each feature:\\n\\n𝑧=𝑥−𝜇/𝜎\\n\\nX_scaled: The scaled version of the feature matrix.\\n\\ny: Target variable (class labels).\\n\\n🧠 Why scale? Many ML models (like KNN, SVM, Gradient Descent-based models) perform better when features are on similar scales.\\n\\n'"
      ]
     },
     "execution_count": 23,
     "metadata": {},
     "output_type": "execute_result"
    }
   ],
   "source": [
    "from sklearn.preprocessing import StandardScaler\n",
    "\n",
    "scaler=StandardScaler()\n",
    "X_scaled=scaler.fit_transform(df.iloc[:,:-1]) #except target\n",
    "y=df['target']\n",
    "\n",
    "'''\n",
    "🔍 Explanation:\n",
    "StandardScaler: Scales data to have mean = 0 and standard deviation = 1.\n",
    "\n",
    "df.iloc[:, :-1]: Selects all feature columns (not target).\n",
    "\n",
    "scaler.fit_transform(...):\n",
    "\n",
    ".fit() calculates mean & std for each feature.\n",
    "\n",
    ".transform() scales each feature:\n",
    "\n",
    "𝑧=𝑥−𝜇/𝜎\n",
    " \n",
    "X_scaled: The scaled version of the feature matrix.\n",
    "\n",
    "y: Target variable (class labels).\n",
    "\n",
    "🧠 Why scale? Many ML models (like KNN, SVM, Gradient Descent-based models) perform better when features are on similar scales.\n",
    "\n",
    "'''"
   ]
  },
  {
   "cell_type": "code",
   "execution_count": null,
   "id": "bcf698fb",
   "metadata": {},
   "outputs": [
    {
     "name": "stdout",
     "output_type": "stream",
     "text": [
      "\n",
      "After Scaling\n",
      "       sepal length (cm)  sepal width (cm)  petal length (cm)  \\\n",
      "count       1.500000e+02      1.500000e+02       1.500000e+02   \n",
      "mean       -1.468455e-15     -1.823726e-15      -1.610564e-15   \n",
      "std         1.003350e+00      1.003350e+00       1.003350e+00   \n",
      "min        -1.870024e+00     -2.433947e+00      -1.567576e+00   \n",
      "25%        -9.006812e-01     -5.923730e-01      -1.226552e+00   \n",
      "50%        -5.250608e-02     -1.319795e-01       3.364776e-01   \n",
      "75%         6.745011e-01      5.586108e-01       7.627583e-01   \n",
      "max         2.492019e+00      3.090775e+00       1.785832e+00   \n",
      "\n",
      "       petal width (cm)  \n",
      "count      1.500000e+02  \n",
      "mean      -9.473903e-16  \n",
      "std        1.003350e+00  \n",
      "min       -1.447076e+00  \n",
      "25%       -1.183812e+00  \n",
      "50%        1.325097e-01  \n",
      "75%        7.906707e-01  \n",
      "max        1.712096e+00  \n"
     ]
    }
   ],
   "source": [
    "scaled_df=pd.DataFrame(X_scaled,columns=df.columns[:-1])\n",
    "print(\"\\nAfter Scaling\")\n",
    "print(scaled_df.describe())\n",
    "\n",
    "'''\n",
    "🔍 Explanation:\n",
    "Converts the scaled array X_scaled back to a pandas DataFrame for readability.\n",
    "\n",
    "Uses original feature names as columns.\n",
    "\n",
    "scaled_df.describe():\n",
    "\n",
    "Shows that after scaling:\n",
    "\n",
    "Mean ≈ 0\n",
    "\n",
    "Std Dev ≈ 1\n",
    "\n",
    "Minimum and maximum values vary but are centered.\n",
    "\n",
    "📊 Output confirms that the scaling worked.\n",
    "'''"
   ]
  },
  {
   "cell_type": "code",
   "execution_count": 27,
   "id": "25b91d06",
   "metadata": {},
   "outputs": [
    {
     "data": {
      "text/plain": [
       "'\\n🔍 Explanation:\\ntrain_test_split(...):\\n\\nSplits your data into training (80%) and testing (20%) sets.\\n\\nrandom_state=42: Ensures reproducibility.\\n\\nstratify=y: Ensures that class distribution is maintained in both train and test sets.\\n\\nX_train, X_test: Feature matrices for training and testing.\\n\\ny_train, y_test: Corresponding target labels.\\n\\n🧠 Essential step before model training to evaluate performance on unseen data.\\n'"
      ]
     },
     "execution_count": 27,
     "metadata": {},
     "output_type": "execute_result"
    }
   ],
   "source": [
    "from sklearn.model_selection import train_test_split\n",
    "\n",
    "X_train,X_test,y_train,y_test=train_test_split(X_scaled,y,test_size=0.2,random_state=42,stratify=y)\n",
    "\n",
    "'''\n",
    "🔍 Explanation:\n",
    "train_test_split(...):\n",
    "\n",
    "Splits your data into training (80%) and testing (20%) sets.\n",
    "\n",
    "random_state=42: Ensures reproducibility.\n",
    "\n",
    "stratify=y: Ensures that class distribution is maintained in both train and test sets.\n",
    "\n",
    "X_train, X_test: Feature matrices for training and testing.\n",
    "\n",
    "y_train, y_test: Corresponding target labels.\n",
    "\n",
    "🧠 Essential step before model training to evaluate performance on unseen data.\n",
    "'''"
   ]
  },
  {
   "cell_type": "code",
   "execution_count": 28,
   "id": "71682a83",
   "metadata": {},
   "outputs": [
    {
     "name": "stdout",
     "output_type": "stream",
     "text": [
      "Train Features Shape: (120, 4)\n",
      "Train Targets Shape: (120,)\n",
      "Test Features Shape: (30, 4)\n",
      "Test Targets Shape: (30,)\n"
     ]
    }
   ],
   "source": [
    "print(\"Train Features Shape:\", X_train.shape)\n",
    "print(\"Train Targets Shape:\", y_train.shape)\n",
    "print(\"Test Features Shape:\", X_test.shape)\n",
    "print(\"Test Targets Shape:\", y_test.shape)\n"
   ]
  },
  {
   "cell_type": "code",
   "execution_count": 29,
   "id": "93144303",
   "metadata": {},
   "outputs": [
    {
     "data": {
      "text/plain": [
       "\"\\n🔸 from sklearn.svm import SVC\\nThis imports the Support Vector Classifier (SVC) from sklearn.svm.\\n\\nSVC is used for classification problems using the Support Vector Machine (SVM) algorithm.\\n\\n🔸 svm_model = SVC(kernel='linear', C=1.0, random_state=42)\\nWhat this does:\\nIt creates an instance of the SVM classifier with the following parameters:\\n\\nkernel='linear':\\n\\nThe SVM uses a linear decision boundary (hyperplane).\\n\\nThis means it tries to find a straight line (or hyperplane) that separates the classes best.\\n\\nOther kernels include 'rbf', 'poly', and 'sigmoid'.\\n\\nC=1.0:\\n\\nThis is the regularization parameter.\\n\\nIt controls the trade-off between maximizing the margin and minimizing classification error.\\n\\n🔸 A lower C (like 0.1) allows more margin violations (softer margin, better generalization).\\n\\n🔸 A higher C (like 1000) tries to fit the training data very strictly (harder margin, less generalization).\\n\\nrandom_state=42:\\n\\nEnsures reproducibility.\\n\\nIt affects certain internal steps like shuffling, but for SVC, this is only relevant if probability=True or shrinking is involved.\\n\\n🔸 svm_model.fit(X_train, y_train)\\nThis trains the SVM model using the training data:\\n\\nX_train: Your feature matrix (already scaled).\\n\\ny_train: The corresponding class labels.\\n\\n🧠 During training:\\n\\nSVM finds the optimal hyperplane that separates the classes in your data.\\n\\nFor linearly separable classes, this is just a straight line or plane.\\n\\nIt identifies the support vectors — the critical data points closest to the margin, which define the decision boundary.\\n\\n✅ Summary of This Cell:\\nYou're training a linear Support Vector Machine classifier on the scaled iris dataset, using a default regularization parameter C=1.0. This is a classic and effective baseline for classification tasks.\\n\\n\""
      ]
     },
     "execution_count": 29,
     "metadata": {},
     "output_type": "execute_result"
    }
   ],
   "source": [
    "from sklearn.svm import SVC\n",
    "\n",
    "svm_model=SVC(kernel='linear',C=1.0,random_state=42)\n",
    "svm_model.fit(X_train,y_train)\n",
    "\n",
    "'''\n",
    "🔸 from sklearn.svm import SVC\n",
    "This imports the Support Vector Classifier (SVC) from sklearn.svm.\n",
    "\n",
    "SVC is used for classification problems using the Support Vector Machine (SVM) algorithm.\n",
    "\n",
    "🔸 svm_model = SVC(kernel='linear', C=1.0, random_state=42)\n",
    "What this does:\n",
    "It creates an instance of the SVM classifier with the following parameters:\n",
    "\n",
    "kernel='linear':\n",
    "\n",
    "The SVM uses a linear decision boundary (hyperplane).\n",
    "\n",
    "This means it tries to find a straight line (or hyperplane) that separates the classes best.\n",
    "\n",
    "Other kernels include 'rbf', 'poly', and 'sigmoid'.\n",
    "\n",
    "C=1.0:\n",
    "\n",
    "This is the regularization parameter.\n",
    "\n",
    "It controls the trade-off between maximizing the margin and minimizing classification error.\n",
    "\n",
    "🔸 A lower C (like 0.1) allows more margin violations (softer margin, better generalization).\n",
    "\n",
    "🔸 A higher C (like 1000) tries to fit the training data very strictly (harder margin, less generalization).\n",
    "\n",
    "random_state=42:\n",
    "\n",
    "Ensures reproducibility.\n",
    "\n",
    "It affects certain internal steps like shuffling, but for SVC, this is only relevant if probability=True or shrinking is involved.\n",
    "\n",
    "🔸 svm_model.fit(X_train, y_train)\n",
    "This trains the SVM model using the training data:\n",
    "\n",
    "X_train: Your feature matrix (already scaled).\n",
    "\n",
    "y_train: The corresponding class labels.\n",
    "\n",
    "🧠 During training:\n",
    "\n",
    "SVM finds the optimal hyperplane that separates the classes in your data.\n",
    "\n",
    "For linearly separable classes, this is just a straight line or plane.\n",
    "\n",
    "It identifies the support vectors — the critical data points closest to the margin, which define the decision boundary.\n",
    "\n",
    "✅ Summary of This Cell:\n",
    "You're training a linear Support Vector Machine classifier on the scaled iris dataset, using a default regularization parameter C=1.0. This is a classic and effective baseline for classification tasks.\n",
    "\n",
    "'''"
   ]
  },
  {
   "cell_type": "code",
   "execution_count": 31,
   "id": "4c01fd1c",
   "metadata": {},
   "outputs": [
    {
     "data": {
      "text/plain": [
       "'\\n🔍 Explanation:\\nPCA(n_components=2):\\n\\nWe reduce the 4-dimensional feature space (Iris dataset) to 2 dimensions.\\n\\nThese 2 principal components capture the maximum variance in the data.\\n\\npca.fit_transform(X_train):\\n\\nfit: Computes the principal components from the training data.\\n\\ntransform: Projects the original 4D data onto the new 2D space.\\n\\nResult: X_train_pca is now of shape (120, 2).\\n\\npca.transform(X_test):\\n\\nApplies the same transformation (learned from training) to the test data.\\n\\n🧠 Why PCA?\\n\\nGreat for visualization.\\n\\nReduces computational complexity.\\n\\nHelps in noise reduction and understanding structure in data.\\n\\n\\n'"
      ]
     },
     "execution_count": 31,
     "metadata": {},
     "output_type": "execute_result"
    }
   ],
   "source": [
    "from sklearn.decomposition import PCA\n",
    "import matplotlib.pyplot as plt\n",
    "import numpy as np\n",
    "\n",
    "pca=PCA(n_components=2)\n",
    "X_train_pca=pca.fit_transform(X_train)\n",
    "X_test_pca=pca.fit_transform(X_test)\n",
    "\n",
    "'''\n",
    "🔍 Explanation:\n",
    "PCA(n_components=2):\n",
    "\n",
    "We reduce the 4-dimensional feature space (Iris dataset) to 2 dimensions.\n",
    "\n",
    "These 2 principal components capture the maximum variance in the data.\n",
    "\n",
    "pca.fit_transform(X_train):\n",
    "\n",
    "fit: Computes the principal components from the training data.\n",
    "\n",
    "transform: Projects the original 4D data onto the new 2D space.\n",
    "\n",
    "Result: X_train_pca is now of shape (120, 2).\n",
    "\n",
    "pca.transform(X_test):\n",
    "\n",
    "Applies the same transformation (learned from training) to the test data.\n",
    "\n",
    "🧠 Why PCA?\n",
    "\n",
    "Great for visualization.\n",
    "\n",
    "Reduces computational complexity.\n",
    "\n",
    "Helps in noise reduction and understanding structure in data.\n",
    "\n",
    "\n",
    "'''"
   ]
  },
  {
   "cell_type": "code",
   "execution_count": null,
   "id": "055c18c6",
   "metadata": {},
   "outputs": [
    {
     "data": {
      "image/png": "[encoded data removed]",
      "text/plain": [
       "<Figure size 640x480 with 1 Axes>"
      ]
     },
     "metadata": {},
     "output_type": "display_data"
    }
   ],
   "source": [
    "plt.scatter(X_train_pca[:,0],X_train_pca[:,1],c=y_train,cmap='viridis', edgecolor='k')\n",
    "plt.title(\"Training Data (PCA projection)\")\n",
    "plt.xlabel(\"PCA 1\")\n",
    "plt.ylabel(\"PCA 2\")\n",
    "plt.show()\n",
    "\n",
    "'''\n",
    "🔍 Explanation:\n",
    "plt.scatter(...):\n",
    "\n",
    "Plots the data points in the 2D PCA space.\n",
    "\n",
    "X_train_pca[:, 0]: First principal component (x-axis).\n",
    "\n",
    "X_train_pca[:, 1]: Second principal component (y-axis).\n",
    "\n",
    "c=y_train: Colors the points based on their class label (0, 1, 2).\n",
    "\n",
    "cmap='viridis': Color gradient.\n",
    "\n",
    "edgecolor='k': Adds a black edge to each point for clarity.\n",
    "\n",
    "plt.title, xlabel, ylabel: Adds context to the graph.\n",
    "\n",
    "🧠 What This Achieves:\n",
    "Visualizes how the three Iris classes (Setosa, Versicolor, Virginica) cluster in 2D space.\n",
    "\n",
    "Helps understand separability of classes and variance captured.\n",
    "\n",
    "\n",
    "'''"
   ]
  },
  {
   "cell_type": "code",
   "execution_count": 34,
   "id": "16838e2f",
   "metadata": {},
   "outputs": [
    {
     "data": {
      "text/plain": [
       "\"\\n🔸 svm_pca.fit(X_train_pca, y_train)\\nTrains the SVM on the 2D representation of the data (after PCA).\\n\\nX_train_pca has only 2 features instead of the original 4.\\n\\ny_train is unchanged (target labels).\\n\\n🧠 This means:\\n\\nYou're using the projected, lower-dimensional version of the original training data.\\n\\nThe SVM now learns a decision boundary in this reduced space.\\n\\nThis is helpful not only for visualization but also for faster training and sometimes better generalization (by removing noise).\\n\\n✅ Why Do This?\\nCombining PCA + SVM is a common and effective pipeline:\\n\\nPCA removes redundant or noisy dimensions.\\n\\nSVM focuses on building a clean separating hyperplane.\\n\\nIt allows you to visualize the classification boundary more easily, since we’re now in 2D.\\n\""
      ]
     },
     "execution_count": 34,
     "metadata": {},
     "output_type": "execute_result"
    }
   ],
   "source": [
    "svm_pca = SVC(kernel='linear', C=1.0, random_state=42)\n",
    "svm_pca.fit(X_train_pca, y_train)\n",
    "\n",
    "'''\n",
    "🔸 svm_pca.fit(X_train_pca, y_train)\n",
    "Trains the SVM on the 2D representation of the data (after PCA).\n",
    "\n",
    "X_train_pca has only 2 features instead of the original 4.\n",
    "\n",
    "y_train is unchanged (target labels).\n",
    "\n",
    "🧠 This means:\n",
    "\n",
    "You're using the projected, lower-dimensional version of the original training data.\n",
    "\n",
    "The SVM now learns a decision boundary in this reduced space.\n",
    "\n",
    "This is helpful not only for visualization but also for faster training and sometimes better generalization (by removing noise).\n",
    "\n",
    "✅ Why Do This?\n",
    "Combining PCA + SVM is a common and effective pipeline:\n",
    "\n",
    "PCA removes redundant or noisy dimensions.\n",
    "\n",
    "SVM focuses on building a clean separating hyperplane.\n",
    "\n",
    "It allows you to visualize the classification boundary more easily, since we’re now in 2D.\n",
    "'''"
   ]
  },
  {
   "cell_type": "code",
   "execution_count": 35,
   "id": "9d3e2975",
   "metadata": {},
   "outputs": [
    {
     "data": {
      "text/plain": [
       "'\\n🔍 Explanation:\\nYou’re creating a fine grid of (x, y) points across the entire PCA plot area.\\n\\nnp.linspace(..., 500): Generates 500 evenly spaced points between min and max.\\n\\nnp.meshgrid(...): Combines them into a full 2D grid, which is required for plotting surfaces.\\n\\n🧠 This grid will be used to evaluate what class the model would predict at every location in 2D space.\\n\\n'"
      ]
     },
     "execution_count": 35,
     "metadata": {},
     "output_type": "execute_result"
    }
   ],
   "source": [
    "x_min, x_max = X_train_pca[:, 0].min() - 1, X_train_pca[:, 0].max() + 1\n",
    "y_min, y_max = X_train_pca[:, 1].min() - 1, X_train_pca[:, 1].max() + 1\n",
    "xx, yy = np.meshgrid(np.linspace(x_min, x_max, 500),\n",
    "                     np.linspace(y_min, y_max, 500))\n",
    "\n",
    "'''\n",
    "🔍 Explanation:\n",
    "You’re creating a fine grid of (x, y) points across the entire PCA plot area.\n",
    "\n",
    "np.linspace(..., 500): Generates 500 evenly spaced points between min and max.\n",
    "\n",
    "np.meshgrid(...): Combines them into a full 2D grid, which is required for plotting surfaces.\n",
    "\n",
    "🧠 This grid will be used to evaluate what class the model would predict at every location in 2D space.\n",
    "\n",
    "'''"
   ]
  },
  {
   "cell_type": "code",
   "execution_count": 36,
   "id": "c79a0c62",
   "metadata": {},
   "outputs": [
    {
     "data": {
      "text/plain": [
       "'\\n🔍 Explanation:\\nnp.c_[xx.ravel(), yy.ravel()]: Combines the grid coordinates into pairs like \\n(x1,y1),(x2,y2)... for prediction.\\n\\nsvm_pca.predict(...): Predicts class labels for each point in the grid.\\n\\nZ.reshape(xx.shape): Converts the flat list of predictions back into a 2D matrix matching the grid.\\n\\nThis gives you a label (class) for every point in the 2D space.\\n'"
      ]
     },
     "execution_count": 36,
     "metadata": {},
     "output_type": "execute_result"
    }
   ],
   "source": [
    "Z = svm_pca.predict(np.c_[xx.ravel(), yy.ravel()])\n",
    "Z = Z.reshape(xx.shape)\n",
    "'''\n",
    "🔍 Explanation:\n",
    "np.c_[xx.ravel(), yy.ravel()]: Combines the grid coordinates into pairs like \n",
    "(x1,y1),(x2,y2)... for prediction.\n",
    "\n",
    "svm_pca.predict(...): Predicts class labels for each point in the grid.\n",
    "\n",
    "Z.reshape(xx.shape): Converts the flat list of predictions back into a 2D matrix matching the grid.\n",
    "\n",
    "This gives you a label (class) for every point in the 2D space.\n",
    "'''"
   ]
  },
  {
   "cell_type": "code",
   "execution_count": null,
   "id": "f03a0e04",
   "metadata": {},
   "outputs": [
    {
     "data": {
      "image/png": "[encoded data removed]",
      "text/plain": [
       "<Figure size 640x480 with 1 Axes>"
      ]
     },
     "metadata": {},
     "output_type": "display_data"
    }
   ],
   "source": [
    "plt.contourf(xx, yy, Z, alpha=0.3, cmap='coolwarm')\n",
    "plt.scatter(X_train_pca[:, 0], X_train_pca[:, 1], c=y_train, edgecolor='k', cmap='viridis')\n",
    "plt.title(\"SVM Decision Boundaries (PCA projection)\")\n",
    "plt.xlabel(\"PCA 1\")\n",
    "plt.ylabel(\"PCA 2\")\n",
    "plt.show()\n",
    "\n",
    "'''\n",
    "🔍 Explanation:\n",
    "plt.contourf(...):\n",
    "\n",
    "Plots the predicted regions (boundaries) where the classifier assigns each class.\n",
    "\n",
    "alpha=0.3: Makes the background semi-transparent.\n",
    "\n",
    "cmap='coolwarm': Color gradient to distinguish regions.\n",
    "\n",
    "plt.scatter(...):\n",
    "\n",
    "Plots the original training points (from PCA-transformed space).\n",
    "\n",
    "c=y_train: Colors them based on actual class.\n",
    "\n",
    "edgecolor='k': Adds a black edge to each point for better visibility.\n",
    "'''"
   ]
  },
  {
   "cell_type": "code",
   "execution_count": null,
   "id": "159afd5f",
   "metadata": {},
   "outputs": [
    {
     "name": "stdout",
     "output_type": "stream",
     "text": [
      "\n",
      "Classification Report:\n",
      "               precision    recall  f1-score   support\n",
      "\n",
      "           0       1.00      1.00      1.00        10\n",
      "           1       1.00      1.00      1.00        10\n",
      "           2       1.00      1.00      1.00        10\n",
      "\n",
      "    accuracy                           1.00        30\n",
      "   macro avg       1.00      1.00      1.00        30\n",
      "weighted avg       1.00      1.00      1.00        30\n",
      "\n",
      "Accuracy: 1.0\n"
     ]
    },
    {
     "data": {
      "image/png": "[encoded data removed]",
      "text/plain": [
       "<Figure size 600x400 with 2 Axes>"
      ]
     },
     "metadata": {},
     "output_type": "display_data"
    },
    {
     "data": {
      "text/plain": [
       "'\\n🔍 Explanation:\\nclassification_report: Gives precision, recall, F1-score, and support for each class.\\n\\naccuracy_score: Gives the overall accuracy (i.e., how many test predictions were correct).\\n\\nconfusion_matrix: Shows how many instances of each class were correctly or incorrectly classified.\\n\\ny_pred = svm_model.predict(X_test):\\n\\nUses the original SVM (not the PCA one) to predict labels for the test set.\\n\\n\\n'"
      ]
     },
     "execution_count": 38,
     "metadata": {},
     "output_type": "execute_result"
    }
   ],
   "source": [
    "from sklearn.metrics import classification_report, accuracy_score, confusion_matrix\n",
    "\n",
    "y_pred = svm_model.predict(X_test)\n",
    "\n",
    "print(\"\\nClassification Report:\\n\", classification_report(y_test, y_pred))\n",
    "print(\"Accuracy:\", accuracy_score(y_test, y_pred))\n",
    "\n",
    "# Confusion Matrix\n",
    "import matplotlib.pyplot as plt\n",
    "import seaborn as sns\n",
    "\n",
    "cm = confusion_matrix(y_test, y_pred)\n",
    "plt.figure(figsize=(6, 4))\n",
    "sns.heatmap(cm, annot=True, cmap='Blues', fmt='d',\n",
    "            xticklabels=iris.target_names,\n",
    "            yticklabels=iris.target_names)\n",
    "plt.xlabel(\"Predicted\")\n",
    "plt.ylabel(\"Actual\")\n",
    "plt.title(\"Confusion Matrix\")\n",
    "plt.show()\n",
    "\n",
    "\n",
    "'''\n",
    "🔍 Explanation:\n",
    "classification_report: Gives precision, recall, F1-score, and support for each class.\n",
    "\n",
    "accuracy_score: Gives the overall accuracy (i.e., how many test predictions were correct).\n",
    "\n",
    "confusion_matrix: Shows how many instances of each class were correctly or incorrectly classified.\n",
    "\n",
    "y_pred = svm_model.predict(X_test):\n",
    "\n",
    "Uses the original SVM (not the PCA one) to predict labels for the test set.\n",
    "\n",
    "Precision: % of predicted labels that were correct.\n",
    "\n",
    "Recall: % of actual class samples that were correctly predicted.\n",
    "\n",
    "F1-score: Harmonic mean of precision and recall.\n",
    "\n",
    "Support: Number of actual samples for each class.\n",
    "\n",
    "sns.heatmap(...):\n",
    "\n",
    "Creates a visual heatmap.\n",
    "\n",
    "annot=True: Displays numbers in each cell.\n",
    "\n",
    "xticklabels, yticklabels: Use Iris class names (setosa, versicolor, virginica).\n",
    "'''"
   ]
  }
 ],
 "metadata": {
  "kernelspec": {
   "display_name": "env",
   "language": "python",
   "name": "python3"
  },
  "language_info": {
   "codemirror_mode": {
    "name": "ipython",
    "version": 3
   },
   "file_extension": ".py",
   "mimetype": "text/x-python",
   "name": "python",
   "nbconvert_exporter": "python",
   "pygments_lexer": "ipython3",
   "version": "3.12.4"
  }
 },
 "nbformat": 4,
 "nbformat_minor": 5
}
